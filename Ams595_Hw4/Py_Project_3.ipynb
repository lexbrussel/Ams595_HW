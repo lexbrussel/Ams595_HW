{
 "cells": [
  {
   "cell_type": "markdown",
   "metadata": {
    "id": "xq__bChjD04e"
   },
   "source": [
    "# Python Assignment 3"
   ]
  },
  {
   "cell_type": "markdown",
   "metadata": {
    "id": "y7j2V0UDMYLG"
   },
   "source": [
    "⏱⏱⏱**Due: 11/02/2023 11:59 PM** ⏱⏱⏱\n",
    "\n",
    "Please submit your notebook files and upload them to your Git repository. Don't forget to include a link to your Git repository when submitting this file on Brightspace. **Please include all outputs in your notebook, including plots, printouts, etc..**\n",
    "\n",
    "Collaboration is permitted and encouraged; however, it's essential to independently produce and submit your own work. If you collaborate with others, please ensure that you provide their names in the designated section.\n",
    "\n",
    "Collaborators:_____"
   ]
  },
  {
   "cell_type": "markdown",
   "metadata": {
    "id": "SUS30Ew9D04n"
   },
   "source": [
    "##**For Questions 2a and 2b, you can choose one of them to complete, if you completed both, only Questions 2a will be graded.**\n",
    "\n",
    "**This assignment is out of 150 points; surplus points can be applied to other assignments (including Matlab and C/C++). However, it cannot be applied to your final project grade, and your assignment grade will not excced 75% of your total grade.**"
   ]
  },
  {
   "cell_type": "markdown",
   "metadata": {
    "id": "KR0Fl4yAQYad"
   },
   "source": [
    "## 1. Good presentation of your code and outputs; submitting your files to Github (10 pts)"
   ]
  },
  {
   "cell_type": "markdown",
   "metadata": {
    "id": "9WPZWhYQkptT"
   },
   "source": [
    "Ensure thorough and clear comments within your code to explain its functionality.\n",
    "\n",
    "Enhance your plots by adding titles, legends, and axis labels where appropriate to provide clarity.\n",
    "\n",
    "If necessary, employ LaTex notation to present mathematical explanations within the notebook.\n",
    "\n",
    "Divide your code into multiple blocks or cells in Jupyter Notebook and provide descriptive explanations for each block to improve readability.\n",
    "\n",
    "As part of your submission, **include the notebook files and upload them to your Git repository. Additionally, remember to provide a link to your Git repository when submitting the files on Brightspace.** Do not submit a compressed file (.rar, .zip, etc..), submit files separately.\n",
    "\n",
    "If you are tasked with implementing a numerical algorithm, it is expected that you would not rely on pre-existing methods. For example, if you were asked to solve $Ax=b$, you should write your own program to solve, not just by calling numpy.linalg.solve.\n",
    "\n"
   ]
  },
  {
   "cell_type": "markdown",
   "metadata": {
    "id": "U5SL2j0sqnAJ"
   },
   "source": [
    "## 2a. Numerical Integration (30 pts)"
   ]
  },
  {
   "cell_type": "markdown",
   "metadata": {
    "id": "OxwdE468rNAR"
   },
   "source": [
    "For a domain discretized into $N$ equally spaced panels:\n",
    "$$\n",
    "\\Delta x=\\frac{b-a}{N}.\n",
    "$$\n",
    "The approximation to the integral is\n",
    "$$\\begin{aligned}\n",
    "\\int_a^b f(x) d x & \\approx \\frac{\\Delta x}{2} \\sum_{k=1}^N\\left(f\\left(x_{k-1}\\right)+f\\left(x_k\\right)\\right) \\\\\n",
    "& =\\frac{\\Delta x}{2}\\left(f\\left(x_0\\right)+2 f\\left(x_1\\right)+2 f\\left(x_2\\right)+2 f\\left(x_3\\right)+\\cdots+2 f\\left(x_{N-1}\\right)+f\\left(x_N\\right)\\right) \\\\\n",
    "& =\\Delta x\\left(\\sum_{k=1}^{N-1} f\\left(x_k\\right)+\\frac{f\\left(x_N\\right)+f\\left(x_0\\right)}{2}\\right) .\n",
    "\\end{aligned}$$\n",
    "This is the trapezoid rule scheme.\n",
    "\n",
    "\n",
    "Given the function $f(x) = 3x^2 + 2x +2$, your tasks are:\n",
    "\n",
    "1. Carry out the integration symbolically using the SymPy library. Output the result (i.e. print out the result).\n",
    "2. Implement the trapezoid rule to estimate the integral $\\int_{-4}^6 f(x) dx$ using the following values of $N = 10, 20, 40, 80, 160, 320, 640, 1280$. Output the results (i.e. print out the results).\n",
    "3. Plot the absolute error (absolute difference between the numerical approximation and the SymPy result) against N.\n",
    "\n",
    "\n",
    "\n"
   ]
  },
  {
   "cell_type": "markdown",
   "metadata": {
    "id": "uzMa1xSEwhe3"
   },
   "source": [
    "## 2b. Numerical Differentiation (30 pts)"
   ]
  },
  {
   "cell_type": "markdown",
   "metadata": {
    "id": "FoA2lb0VxDk4"
   },
   "source": [
    "Your tasks:\n",
    "1. Find the closed form expression of $f_{xy}(x,y)$, i.e. $\\frac{d^2}{dxdy}f(x,y)$, for $f(x,y) = \\left(sin^2\\left(x\\right)e^xcos(y)\\right)$ using `sympy`. Output the result.\n",
    "2. Find $f_{xy}(2,3)$ with `sympy` and take 15 significant digits, use it as the \"groud truth solution\". Output the result.\n",
    "3. Approximate $f_{xy}(2,3)$ using central difference approximation for the following values of $h = 0.1, 0.01, 0.001, 0.0001$. Output the results.\n",
    "4. Plot the absolute error (absolute difference between the numerical approximation and the SymPy result) against the step size $h$. `plt.gca().invert_xaxis() ` might help.\n",
    "\n",
    "Recall from the lecture:\n",
    "$$f_{x y}(x, y) \\approx \\frac{f(x+h, y+k)-f(x+h, y-k)-f(x-h, y+k)+f(x-h, y-k)}{4 h k}.$$\n",
    "For simplicity, we set $k = h$."
   ]
  },
  {
   "cell_type": "code",
   "execution_count": 24,
   "metadata": {},
   "outputs": [
    {
     "data": {
      "text/latex": [
       "$\\displaystyle - \\left(\\sin{\\left(x \\right)} + 2 \\cos{\\left(x \\right)}\\right) e^{x} \\sin{\\left(x \\right)} \\sin{\\left(y \\right)}$"
      ],
      "text/plain": [
       "-(sin(x) + 2*cos(x))*exp(x)*sin(x)*sin(y)"
      ]
     },
     "execution_count": 24,
     "metadata": {},
     "output_type": "execute_result"
    }
   ],
   "source": [
    "#step1\n",
    "import sympy as sp\n",
    "\n",
    "x, y = sp.symbols('x y')\n",
    "f = sp.sin(x)**2 * sp.exp(x) * sp.cos(y)\n",
    "f_xy = sp.diff(f, x, y)\n",
    "f_xy\n"
   ]
  },
  {
   "cell_type": "code",
   "execution_count": 26,
   "metadata": {},
   "outputs": [
    {
     "data": {
      "text/latex": [
       "$\\displaystyle -0.0730121966594062$"
      ],
      "text/plain": [
       "-0.0730121966594062"
      ]
     },
     "execution_count": 26,
     "metadata": {},
     "output_type": "execute_result"
    }
   ],
   "source": [
    "#step2\n",
    "f_xy_at_2_3 = f_xy.subs({x: 2, y: 3})\n",
    "f_xy_at_2_3.evalf(15)  # Evaluate with 15 significant digits\n",
    "\n"
   ]
  },
  {
   "cell_type": "code",
   "execution_count": 28,
   "metadata": {},
   "outputs": [
    {
     "data": {
      "text/plain": [
       "[-0.0688582152443606,\n",
       " -0.0729703465585096,\n",
       " -0.0730117781788664,\n",
       " -0.0730121962888575]"
      ]
     },
     "execution_count": 28,
     "metadata": {},
     "output_type": "execute_result"
    }
   ],
   "source": [
    "#step3 for simplify, we set k = h\n",
    "def central_difference_approximation(f, x_val, y_val, h):\n",
    "    f_plus_h = f.subs({x: x_val + h, y: y_val + h})\n",
    "    f_plus_h_minus = f.subs({x: x_val + h, y: y_val - h})\n",
    "    f_minus_h = f.subs({x: x_val - h, y: y_val + h})\n",
    "    f_minus_h_minus = f.subs({x: x_val - h, y: y_val - h})\n",
    "    \n",
    "    return (f_plus_h - f_plus_h_minus - f_minus_h + f_minus_h_minus) / (4 * h * h)\n",
    "\n",
    "h_values = [0.1, 0.01, 0.001, 0.0001]\n",
    "approximations = [central_difference_approximation(f, 2, 3, h) for h in h_values]\n",
    "approximations\n"
   ]
  },
  {
   "cell_type": "code",
   "execution_count": 29,
   "metadata": {},
   "outputs": [
    {
     "data": {
      "image/png": "[encoded data removed]",
      "text/plain": [
       "<Figure size 640x480 with 1 Axes>"
      ]
     },
     "metadata": {},
     "output_type": "display_data"
    }
   ],
   "source": [
    "#step4\n",
    "import matplotlib.pyplot as plt\n",
    "\n",
    "symPy_result = f_xy_at_2_3.evalf(15)\n",
    "absolute_errors = [abs(symPy_result - approx) for approx in approximations]\n",
    "\n",
    "plt.plot(h_values, absolute_errors, marker='o')\n",
    "plt.gca().invert_xaxis()\n",
    "plt.xlabel('Step Size (h)')\n",
    "plt.ylabel('Absolute Error')\n",
    "plt.title('Absolute Error vs. Step Size')\n",
    "plt.show()\n"
   ]
  },
  {
   "cell_type": "markdown",
   "metadata": {
    "id": "aCgIDqeLBPjj"
   },
   "source": [
    "## 3. Pandas I (15 pts)"
   ]
  },
  {
   "cell_type": "markdown",
   "metadata": {
    "id": "O1w1avrtBYD5"
   },
   "source": [
    "1. Create a 3x4 (3 rows by 4 columns) pandas DataFrame with the columns named after the following Long Island towns: Hempstead, Babylon, Islip, and Brookhaven. The rows represent 'Population in 2099', 'Population in 2300', 'Population in 2400'. Fill each of the 12 cells in the DataFrame with a random integer from 1000 to 10000, inclusive. `np.random.randint()` might be helpful.\n",
    "For Example:\n",
    "\n",
    "```\n",
    "                    Hempstead  Babylon  Islip  Brookhaven\n",
    "Population in 2099       2931     8043   8414        8661\n",
    "Population in 2300       5444     9227   7393        8007\n",
    "Population in 2400       1660     7977   4730        2940\n",
    "```\n",
    "\n",
    "\n",
    "\n",
    "2. Output the following:\n",
    "  - The entire DataFrame.\n",
    "  - The value in the cell of row #1 (indexing starts with 0) under the Hempstead column.\n",
    "\n",
    "3. Add a new column named Riverhead. Populate this column with the sum of the respective row values from the Islip and Brookhaven columns. Output the entire DataFrame again."
   ]
  },
  {
   "cell_type": "code",
   "execution_count": 31,
   "metadata": {},
   "outputs": [],
   "source": [
    "#step1\n",
    "import pandas as pd\n",
    "import numpy as np\n",
    "\n",
    "# Step 1: Create the DataFrame\n",
    "towns = ['Hempstead', 'Babylon', 'Islip', 'Brookhaven']\n",
    "years = ['Population in 2099', 'Population in 2300', 'Population in 2400']\n",
    "\n",
    "data = np.random.randint(1000, 10001, size=(3, 4))\n",
    "df = pd.DataFrame(data, columns=towns, index=years)"
   ]
  },
  {
   "cell_type": "code",
   "execution_count": 32,
   "metadata": {},
   "outputs": [
    {
     "name": "stdout",
     "output_type": "stream",
     "text": [
      "Entire DataFrame:\n",
      "                    Hempstead  Babylon  Islip  Brookhaven\n",
      "Population in 2099       4446     6600   4773        9680\n",
      "Population in 2300       7438     6994   6955        6743\n",
      "Population in 2400       1209     5727   6883        1728\n",
      "\n",
      "Value under 'Hempstead' in row #1: 4446\n"
     ]
    }
   ],
   "source": [
    "#step2\n",
    "print(\"Entire DataFrame:\")\n",
    "print(df)\n",
    "\n",
    "hempstead_value = df.at['Population in 2099', 'Hempstead']\n",
    "print(\"\\nValue under 'Hempstead' in row #1:\", hempstead_value)\n"
   ]
  },
  {
   "cell_type": "code",
   "execution_count": 34,
   "metadata": {},
   "outputs": [
    {
     "name": "stdout",
     "output_type": "stream",
     "text": [
      "\n",
      "DataFrame with the 'Riverhead' column:\n",
      "                    Hempstead  Babylon  Islip  Brookhaven  Riverhead\n",
      "Population in 2099       4446     6600   4773        9680      14453\n",
      "Population in 2300       7438     6994   6955        6743      13698\n",
      "Population in 2400       1209     5727   6883        1728       8611\n"
     ]
    }
   ],
   "source": [
    "#step3 add new column\n",
    "df['Riverhead'] = df['Islip'] + df['Brookhaven']\n",
    "\n",
    "# Output the entire DataFrame again with the new column\n",
    "print(\"\\nDataFrame with the 'Riverhead' column:\")\n",
    "print(df)"
   ]
  },
  {
   "cell_type": "markdown",
   "metadata": {
    "id": "WqHDjQC-KLjo"
   },
   "source": [
    "## 4. Pandas II (15 pts)"
   ]
  },
  {
   "cell_type": "markdown",
   "metadata": {
    "id": "w6kHh8BENzHk"
   },
   "source": [
    "0. Download the cvs file that comes with this assignment, and read it into a dataframe. You can also download this [csv file](https://media.githubusercontent.com/media/datablist/sample-csv-files/main/files/customers/customers-100.csv) with this link.\n",
    "1. Arrange the data in alphabetical order based on the last name. Display the first few rows.\n",
    "2. Count the number of customers whose subscription date is in 2021 (2021-01-01 to 2021-12-31). Report this number (e.g. print)."
   ]
  },
  {
   "cell_type": "code",
   "execution_count": 36,
   "metadata": {},
   "outputs": [],
   "source": [
    "#step 0\n",
    "import pandas as pd\n",
    "\n",
    "csv_file_path = \"D:/Ams595/Ams595_Hw4/customers-100.csv\"\n",
    "df = pd.read_csv(csv_file_path)\n"
   ]
  },
  {
   "cell_type": "code",
   "execution_count": 39,
   "metadata": {},
   "outputs": [
    {
     "name": "stdout",
     "output_type": "stream",
     "text": [
      "First few rows of the DataFrame (sorted by last name):\n",
      "    Index      Customer Id First Name Last Name                Company  \\\n",
      "67     68  a014Ec1b9FccC1E        Tom  Alvarado    Donaldson-Dougherty   \n",
      "96     97  CeD220bdAaCfaDf       Lynn  Atkinson  Ware, Burns and Oneal   \n",
      "92     93  aAb6AFc7AfD0fF3     Collin     Ayers          Lamb-Peterson   \n",
      "0       1  DD37Cf93aecA6Dc     Sheryl    Baxter        Rasmussen Group   \n",
      "15     16  8cad0b4CBceaeec    Miranda   Beasley     Singleton and Sons   \n",
      "\n",
      "                City    Country             Phone 1                Phone 2  \\\n",
      "67  South Sophiaberg   Kiribati  (585)606-2980x2258      730-797-3594x5614   \n",
      "96      New Bradview  Sri Lanka     +1-846-706-2218           605.413.3198   \n",
      "92      South Lonnie   Anguilla    404-645-5351x012  001-257-582-8850x8516   \n",
      "0       East Leonard      Chile        229.077.5154       397.884.0519x718   \n",
      "15      Desireeshire       Oman    540.085.3135x185  +1-600-462-6432x21881   \n",
      "\n",
      "                            Email Subscription Date  \\\n",
      "67  nicholsonnina@montgomery.info        2020-08-18   \n",
      "96              vkemp@ferrell.com        2021-07-10   \n",
      "92       dudleyemily@gonzales.biz        2021-06-29   \n",
      "0        zunigavanessa@smith.info        2020-08-24   \n",
      "15        vduncan@parks-hardy.com        2022-04-12   \n",
      "\n",
      "                       Website  \n",
      "67     http://odom-massey.com/  \n",
      "96  https://novak-allison.com/  \n",
      "92        http://www.ruiz.com/  \n",
      "0   http://www.stephenson.com/  \n",
      "15          http://acosta.org/  \n"
     ]
    }
   ],
   "source": [
    "#step 1 sort and display first few rows\n",
    "df.sort_values(by='Last Name', inplace=True)\n",
    "\n",
    "print(\"First few rows of the DataFrame (sorted by last name):\")\n",
    "print(df.head())"
   ]
  },
  {
   "cell_type": "code",
   "execution_count": 43,
   "metadata": {},
   "outputs": [
    {
     "name": "stdout",
     "output_type": "stream",
     "text": [
      "\n",
      "Number of customers with a subscription date in 2021: 43\n"
     ]
    }
   ],
   "source": [
    "#step 2\n",
    "\n",
    "df['Subscription Date'] = pd.to_datetime(df['Subscription Date'])\n",
    "start_date = pd.Timestamp(\"2021-01-01\")\n",
    "end_date = pd.Timestamp(\"2021-12-31\")\n",
    "customers_in_2021 = df[(df['Subscription Date'] >= start_date) & (df['Subscription Date'] <= end_date)]\n",
    "num_customers_in_2021 = len(customers_in_2021)\n",
    "\n",
    "print(\"\\nNumber of customers with a subscription date in 2021:\", num_customers_in_2021)\n"
   ]
  },
  {
   "cell_type": "markdown",
   "metadata": {
    "id": "aBpXtK8VvApb"
   },
   "source": [
    "## 5. LU decomposition (50 + 30 pts)\n"
   ]
  },
  {
   "cell_type": "markdown",
   "metadata": {
    "id": "ryafNieevrgZ"
   },
   "source": [
    "Part A (50 points)\n",
    "1. Write a function `LUdecomposition()` that takes as input a matrix $A\\in \\mathbb{R}^{n \\times n}$. Perform Gaussian Elimination to have this function return two matrices $L$ and $U$ such that $A=LU$.\n",
    "2. Your function should raise any relevant errors, for example, raise an error if a pure LU decomposition does not exist for $A$ (meaning that you have to perform pivoting, i.e., permutation of rows).\n",
    "3. Create several random matrices for the purpose of testing your function. Obtain the $L$ and $U$ matrices, and for each random matrix obtain its L and U matrices and perform a matrix multiplication (`np.matmul()`) to determine whether the outcome closely resembles the original matrix $A$, allowing for slight differences attributable to precision errors.\n",
    "\n",
    "\n",
    "Note: LU decomposition with Gaussian elimination should be covered in your undergraduate linear algebra class. It is also covered in AMS 510. If you do not know how, this 10 minute [video](https://www.youtube.com/watch?v=UlWcofkUDDU&ab_channel=Mathispower4u) explains it very well.\n",
    "\n",
    "Part B (30 bonus points)\n",
    "4. Not all square matrices have a pure LU decomposition. However, PLU decomposition always exists. Write another function `pivoting()` that takes as input a matrix $A$ and return the permutation/pivoting matrix $P$ such that $PA$ always has a pure LU decomposition.\n",
    "5. Find an example $A$ for which `LUdecomposition()` raises an error. Then, use `pivoting()` to find $P$, and find the pure LU decomposition of $PA$. Verify that indeed $PA = LU$ with matrix multiplication (`np.matmul()`).\n",
    "\n",
    "\n",
    "Hint: Please do not print out a giant matrix and visually examine the outcomes. Think of a way to verify your results and output a boolean value.\n"
   ]
  },
  {
   "cell_type": "markdown",
   "metadata": {
    "id": "QlP_giLsQRPM"
   },
   "source": [
    "Fact: LU and PLU decompositions are not unique."
   ]
  },
  {
   "cell_type": "code",
   "execution_count": 47,
   "metadata": {},
   "outputs": [
    {
     "name": "stdout",
     "output_type": "stream",
     "text": [
      "Test passed for a random matrix.\n",
      "Test passed for a random matrix.\n",
      "Test passed for a random matrix.\n",
      "Test passed for a random matrix.\n",
      "Test passed for a random matrix.\n"
     ]
    }
   ],
   "source": [
    "#Part A\n",
    "import numpy as np\n",
    "#step 1\n",
    "def LUdecomposition(A):\n",
    "    n = A.shape[0]\n",
    "    L = np.eye(n)\n",
    "    U = A.copy()\n",
    "\n",
    "#step 2\n",
    "    for k in range(n - 1):\n",
    "        if np.abs(U[k, k]) < 1e-10:\n",
    "            raise ValueError(\"Pure LU decomposition does not exist, pivot is too small. Perform row pivoting.\")\n",
    "        \n",
    "        for i in range(k + 1, n):\n",
    "            factor = U[i, k] / U[k, k]\n",
    "            L[i, k] = factor\n",
    "            U[i, k:] -= factor * U[k, k:]\n",
    "\n",
    "    return L, U\n",
    "#step 3\n",
    "# Function to check if the product of L and U matrices is close to A\n",
    "def check_LU_decomposition(A, L, U):\n",
    "    A_reconstructed = np.matmul(L, U)\n",
    "    return np.allclose(A, A_reconstructed)\n",
    "\n",
    "# Test the function with random matrix\n",
    "for _ in range(5):\n",
    "    n = np.random.randint(2, 6)  # Random size of the square matrix\n",
    "    A = np.random.rand(n, n)  # Random matrix with values in [0, 1)\n",
    "\n",
    "    L, U = LUdecomposition(A)\n",
    "    if not check_LU_decomposition(A, L, U):\n",
    "        print(\"Test failed for a random matrix.\")\n",
    "    else:\n",
    "        print(\"Test passed for a random matrix.\")\n",
    "\n"
   ]
  },
  {
   "cell_type": "code",
   "execution_count": 50,
   "metadata": {},
   "outputs": [
    {
     "name": "stdout",
     "output_type": "stream",
     "text": [
      "P (permutation matrix):\n",
      "[[0. 1.]\n",
      " [1. 0.]]\n",
      "PA (A after pivoting):\n",
      "[[0. 1.]\n",
      " [1. 1.]]\n"
     ]
    }
   ],
   "source": [
    "#Part B\n",
    "\n",
    "def pivoting(A):\n",
    "    n = A.shape[0]\n",
    "    P = np.eye(n)\n",
    "\n",
    "    for k in range(n - 1):\n",
    "        pivot_row = np.argmax(np.abs(A[k:, k])) + k  # Find the index of the maximum absolute value\n",
    "        if pivot_row != k:\n",
    "            P[[k, pivot_row]] = P[[pivot_row, k]]  # Swap rows in P\n",
    "            A[[k, pivot_row]] = A[[pivot_row, k]]  # Swap rows in A\n",
    "\n",
    "    return P\n",
    "\n",
    "# Test the pivoting function\n",
    "A_test = np.array([[0, 1], [1, 1]], dtype=float)\n",
    "P = pivoting(A_test)\n",
    "PA = np.matmul(P, A_test)\n",
    "print(\"P (permutation matrix):\")\n",
    "print(P)\n",
    "print(\"PA (A after pivoting):\")\n",
    "print(PA)\n"
   ]
  },
  {
   "cell_type": "markdown",
   "metadata": {
    "id": "X_4ITuoU53KF"
   },
   "source": [
    "## 6. Markov Chain (30 pts)"
   ]
  },
  {
   "cell_type": "markdown",
   "metadata": {
    "id": "X2-wBoxIWLQs"
   },
   "source": [
    "**BACKGROUND:** Consider a Markov chain transition matrix $P$ on a set of $n$ states, where $P_{i j}$ corresponds to the probability $\\left(0 \\leq P_{i j} \\leq 1\\right)$ to go from state $i$ to the state $j$, and each row is normalized so that\n",
    "$$\n",
    "\\sum_{j=1}^n P_{i j}=1 .\n",
    "$$\n",
    "\n",
    "Let $p$ be a size- $n$ vector composed of the probability distribution over the $n$ states, where\n",
    "$$\n",
    "\\sum_{j=1}^n p_j=1 .\n",
    "$$\n",
    "\n",
    "The transition rule corresponding to the transition matrix $P$ is $\\hat{p}=P^T p$, where $\\hat{p}$ corresponds to a new probability distribution and\n",
    "$$\n",
    "\\sum_{j=1}^n \\hat{p}_j=1 .\n",
    "$$\n",
    "TASK: Write a program that works with 5 states `only use the numpy library`. In particular,\n",
    "0. Fix the random seed to be the last digit of your id: `numpy.random.seed()`.\n",
    "\n",
    "1. Construct a random $5 \\times 5$ matrix $P$, and normalize each row so that\n",
    "$$\n",
    "\\sum_{j=1}^5 P_{i j}=1 .\n",
    "$$\n",
    "\n",
    "2. Construct a random size-5 vector $p$ and normalize it so that\n",
    "$$\n",
    "\\sum_{j=1}^5 p_j=1 .\n",
    "$$\n",
    "Apply the transition rule 50 times to obtain $p_{50}$.\n",
    "3. Compute the eigenvector $v$ of $P^T$ corresponding to the eigenvalue 1 (and numerically, the eigenvalue closest to $1)$, and then scale the eigenvector so that\n",
    "$$\n",
    "\\sum_{j=1}^5 v_j=1 .\n",
    "$$\n",
    "This scaled eigenvector is known as the stationary distribution.\n",
    "\n",
    "4. Compute the component wise difference between $p_{50}$ and the stationary distribution. Do they match with each other within $1 \\mathrm{e}-5$ ?\n",
    "\n",
    "HINTS: You may find the following functions useful in your implementation:\n",
    "- np.random.rand\n",
    "- np.dot\n",
    "- np.linalg.eig"
   ]
  },
  {
   "cell_type": "code",
   "execution_count": 52,
   "metadata": {},
   "outputs": [],
   "source": [
    "import numpy as np\n",
    "\n",
    "# ID: 112111032\n",
    "np.random.seed(32)\n",
    "\n",
    "#Step 1 Construct the 5x5 matrix P\n",
    "P = np.random.rand(5, 5)\n",
    "# Normalize each row\n",
    "P = P / P.sum(axis=1, keepdims=True) \n"
   ]
  },
  {
   "cell_type": "code",
   "execution_count": 53,
   "metadata": {},
   "outputs": [],
   "source": [
    "#step 2: Construct the random vector p and normalize it\n",
    "p = np.random.rand(5)\n",
    "p = p / p.sum()\n",
    "\n",
    "# Apply the transition rule 50 times to obtain p50\n",
    "for _ in range(50):\n",
    "    p = np.dot(P.T, p)\n",
    "    p = p / p.sum()"
   ]
  },
  {
   "cell_type": "code",
   "execution_count": 54,
   "metadata": {},
   "outputs": [],
   "source": [
    "#step 3: Compute the eigenvector v of P^T corresponding to eigenvalue 1\n",
    "\n",
    "eigenvalues, eigenvectors = np.linalg.eig(P.T)\n",
    "v = eigenvectors[:, np.isclose(eigenvalues, 1)][0]\n",
    "v = v / v.sum()"
   ]
  },
  {
   "cell_type": "code",
   "execution_count": 59,
   "metadata": {},
   "outputs": [
    {
     "name": "stdout",
     "output_type": "stream",
     "text": [
      "Transition Matrix P:\n",
      "[[0.24687428 0.10712999 0.15956308 0.27468852 0.21174414]\n",
      " [0.26748175 0.03312747 0.30427842 0.19961353 0.19549884]\n",
      " [0.0438545  0.16493012 0.31666342 0.21105088 0.26350108]\n",
      " [0.26344465 0.22065062 0.01869303 0.21031466 0.28689705]\n",
      " [0.32309521 0.03295475 0.3201204  0.16350065 0.16032898]]\n",
      "\n",
      "Random Vector p:\n",
      "[0.22598848 0.11838626 0.21694662 0.21319969 0.22547895]\n",
      "\n",
      "Eigenvector v:\n",
      "[1.+0.j]\n",
      "\n",
      "Component-wise Difference (p50 - v):\n",
      "[0.77401152 0.88161374 0.78305338 0.78680031 0.77452105]\n",
      "\n",
      "Do the differences match within 1e-5?: False\n"
     ]
    }
   ],
   "source": [
    "#step 4: Compute the difference between p50 and the stationary distribution v\n",
    "difference = np.abs(p - v)\n",
    "\n",
    "# Do they match with each other within 1e-5?\n",
    "result = np.allclose(difference, np.zeros(5), atol=1e-5)\n",
    "\n",
    "print(\"Transition Matrix P:\")\n",
    "print(P)\n",
    "print(\"\\nRandom Vector p:\")\n",
    "print(p)\n",
    "print(\"\\nEigenvector v:\")\n",
    "print(v) #since I use:eigenvalues, eigenvectors = np.linalg.eig(P.T), it will give a complex number\n",
    "print(\"\\nComponent-wise Difference (p50 - v):\")\n",
    "print(difference)\n",
    "print(\"\\nDo the differences match within 1e-5?:\", result)"
   ]
  },
  {
   "cell_type": "code",
   "execution_count": null,
   "metadata": {},
   "outputs": [],
   "source": []
  }
 ],
 "metadata": {
  "accelerator": "GPU",
  "anaconda-cloud": {},
  "colab": {
   "collapsed_sections": [
    "KR0Fl4yAQYad",
    "U5SL2j0sqnAJ",
    "29VDnBBE5pUV",
    "uzMa1xSEwhe3",
    "YCD9beX75Yp7",
    "aCgIDqeLBPjj",
    "WqHDjQC-KLjo",
    "wzeYQOW0OCH3",
    "X_4ITuoU53KF",
    "yoMb8G9jXWcu"
   ],
   "gpuType": "T4",
   "provenance": []
  },
  "kernelspec": {
   "display_name": "Python 3 (ipykernel)",
   "language": "python",
   "name": "python3"
  },
  "language_info": {
   "codemirror_mode": {
    "name": "ipython",
    "version": 3
   },
   "file_extension": ".py",
   "mimetype": "text/x-python",
   "name": "python",
   "nbconvert_exporter": "python",
   "pygments_lexer": "ipython3",
   "version": "3.11.6"
  }
 },
 "nbformat": 4,
 "nbformat_minor": 4
}
